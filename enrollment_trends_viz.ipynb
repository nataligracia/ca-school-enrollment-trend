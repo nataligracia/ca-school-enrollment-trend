{
 "cells": [
  {
   "cell_type": "code",
   "execution_count": 1,
   "metadata": {},
   "outputs": [],
   "source": [
    "%matplotlib inline"
   ]
  },
  {
   "cell_type": "code",
   "execution_count": 37,
   "metadata": {},
   "outputs": [],
   "source": [
    "# dependencies & set up\n",
    "import matplotlib.pyplot as plt\n",
    "import pandas as pd\n",
    "import numpy as np\n",
    "import pathlib\n",
    "from IPython.display import display\n",
    "\n",
    "data_filepath = \"Resources/output_data/school_directory_enrollment.csv\"\n",
    "data_df = pd.read_csv(data_filepath)"
   ]
  },
  {
   "cell_type": "code",
   "execution_count": 3,
   "metadata": {},
   "outputs": [
    {
     "data": {
      "text/html": [
       "<div>\n",
       "<style scoped>\n",
       "    .dataframe tbody tr th:only-of-type {\n",
       "        vertical-align: middle;\n",
       "    }\n",
       "\n",
       "    .dataframe tbody tr th {\n",
       "        vertical-align: top;\n",
       "    }\n",
       "\n",
       "    .dataframe thead th {\n",
       "        text-align: right;\n",
       "    }\n",
       "</style>\n",
       "<table border=\"1\" class=\"dataframe\">\n",
       "  <thead>\n",
       "    <tr style=\"text-align: right;\">\n",
       "      <th></th>\n",
       "      <th>Unnamed: 0</th>\n",
       "      <th>CDS_CODE</th>\n",
       "      <th>SCHOOL</th>\n",
       "      <th>School</th>\n",
       "      <th>District</th>\n",
       "      <th>NCESDist</th>\n",
       "      <th>County</th>\n",
       "      <th>Street</th>\n",
       "      <th>Zip</th>\n",
       "      <th>City</th>\n",
       "      <th>State</th>\n",
       "      <th>year</th>\n",
       "      <th>ENR_TOTAL</th>\n",
       "    </tr>\n",
       "  </thead>\n",
       "  <tbody>\n",
       "    <tr>\n",
       "      <th>0</th>\n",
       "      <td>8</td>\n",
       "      <td>1100170112607</td>\n",
       "      <td>Envision Academy for Arts &amp; Technology</td>\n",
       "      <td>Envision Academy for Arts &amp; Technology</td>\n",
       "      <td>Alameda County Office of Education</td>\n",
       "      <td>0691051</td>\n",
       "      <td>Alameda</td>\n",
       "      <td>1515 Webster Street</td>\n",
       "      <td>94612-3355</td>\n",
       "      <td>Oakland</td>\n",
       "      <td>CA</td>\n",
       "      <td>2015</td>\n",
       "      <td>407</td>\n",
       "    </tr>\n",
       "    <tr>\n",
       "      <th>1</th>\n",
       "      <td>9</td>\n",
       "      <td>1100170112607</td>\n",
       "      <td>Envision Academy for Arts &amp; Technology</td>\n",
       "      <td>Envision Academy for Arts &amp; Technology</td>\n",
       "      <td>Alameda County Office of Education</td>\n",
       "      <td>0691051</td>\n",
       "      <td>Alameda</td>\n",
       "      <td>1515 Webster Street</td>\n",
       "      <td>94612-3355</td>\n",
       "      <td>Oakland</td>\n",
       "      <td>CA</td>\n",
       "      <td>2016</td>\n",
       "      <td>403</td>\n",
       "    </tr>\n",
       "    <tr>\n",
       "      <th>2</th>\n",
       "      <td>10</td>\n",
       "      <td>1100170112607</td>\n",
       "      <td>Envision Academy for Arts &amp; Technology</td>\n",
       "      <td>Envision Academy for Arts &amp; Technology</td>\n",
       "      <td>Alameda County Office of Education</td>\n",
       "      <td>0691051</td>\n",
       "      <td>Alameda</td>\n",
       "      <td>1515 Webster Street</td>\n",
       "      <td>94612-3355</td>\n",
       "      <td>Oakland</td>\n",
       "      <td>CA</td>\n",
       "      <td>2017</td>\n",
       "      <td>413</td>\n",
       "    </tr>\n",
       "    <tr>\n",
       "      <th>3</th>\n",
       "      <td>11</td>\n",
       "      <td>1100170112607</td>\n",
       "      <td>Envision Academy for Arts &amp; Technology</td>\n",
       "      <td>Envision Academy for Arts &amp; Technology</td>\n",
       "      <td>Alameda County Office of Education</td>\n",
       "      <td>0691051</td>\n",
       "      <td>Alameda</td>\n",
       "      <td>1515 Webster Street</td>\n",
       "      <td>94612-3355</td>\n",
       "      <td>Oakland</td>\n",
       "      <td>CA</td>\n",
       "      <td>2018</td>\n",
       "      <td>385</td>\n",
       "    </tr>\n",
       "    <tr>\n",
       "      <th>4</th>\n",
       "      <td>12</td>\n",
       "      <td>1100170112607</td>\n",
       "      <td>Envision Academy for Arts &amp; Technology</td>\n",
       "      <td>Envision Academy for Arts &amp; Technology</td>\n",
       "      <td>Alameda County Office of Education</td>\n",
       "      <td>0691051</td>\n",
       "      <td>Alameda</td>\n",
       "      <td>1515 Webster Street</td>\n",
       "      <td>94612-3355</td>\n",
       "      <td>Oakland</td>\n",
       "      <td>CA</td>\n",
       "      <td>2019</td>\n",
       "      <td>412</td>\n",
       "    </tr>\n",
       "  </tbody>\n",
       "</table>\n",
       "</div>"
      ],
      "text/plain": [
       "   Unnamed: 0       CDS_CODE                                  SCHOOL  \\\n",
       "0           8  1100170112607  Envision Academy for Arts & Technology   \n",
       "1           9  1100170112607  Envision Academy for Arts & Technology   \n",
       "2          10  1100170112607  Envision Academy for Arts & Technology   \n",
       "3          11  1100170112607  Envision Academy for Arts & Technology   \n",
       "4          12  1100170112607  Envision Academy for Arts & Technology   \n",
       "\n",
       "                                   School                            District  \\\n",
       "0  Envision Academy for Arts & Technology  Alameda County Office of Education   \n",
       "1  Envision Academy for Arts & Technology  Alameda County Office of Education   \n",
       "2  Envision Academy for Arts & Technology  Alameda County Office of Education   \n",
       "3  Envision Academy for Arts & Technology  Alameda County Office of Education   \n",
       "4  Envision Academy for Arts & Technology  Alameda County Office of Education   \n",
       "\n",
       "  NCESDist   County               Street         Zip     City State  year  \\\n",
       "0  0691051  Alameda  1515 Webster Street  94612-3355  Oakland    CA  2015   \n",
       "1  0691051  Alameda  1515 Webster Street  94612-3355  Oakland    CA  2016   \n",
       "2  0691051  Alameda  1515 Webster Street  94612-3355  Oakland    CA  2017   \n",
       "3  0691051  Alameda  1515 Webster Street  94612-3355  Oakland    CA  2018   \n",
       "4  0691051  Alameda  1515 Webster Street  94612-3355  Oakland    CA  2019   \n",
       "\n",
       "   ENR_TOTAL  \n",
       "0        407  \n",
       "1        403  \n",
       "2        413  \n",
       "3        385  \n",
       "4        412  "
      ]
     },
     "execution_count": 3,
     "metadata": {},
     "output_type": "execute_result"
    }
   ],
   "source": [
    "data_df.head()"
   ]
  },
  {
   "cell_type": "code",
   "execution_count": 4,
   "metadata": {},
   "outputs": [
    {
     "data": {
      "text/html": [
       "<div>\n",
       "<style scoped>\n",
       "    .dataframe tbody tr th:only-of-type {\n",
       "        vertical-align: middle;\n",
       "    }\n",
       "\n",
       "    .dataframe tbody tr th {\n",
       "        vertical-align: top;\n",
       "    }\n",
       "\n",
       "    .dataframe thead th {\n",
       "        text-align: right;\n",
       "    }\n",
       "</style>\n",
       "<table border=\"1\" class=\"dataframe\">\n",
       "  <thead>\n",
       "    <tr style=\"text-align: right;\">\n",
       "      <th></th>\n",
       "      <th>District</th>\n",
       "      <th>year</th>\n",
       "      <th>ENR_TOTAL</th>\n",
       "    </tr>\n",
       "  </thead>\n",
       "  <tbody>\n",
       "    <tr>\n",
       "      <th>0</th>\n",
       "      <td>ABC Unified</td>\n",
       "      <td>2015</td>\n",
       "      <td>20811</td>\n",
       "    </tr>\n",
       "    <tr>\n",
       "      <th>1</th>\n",
       "      <td>ABC Unified</td>\n",
       "      <td>2016</td>\n",
       "      <td>20706</td>\n",
       "    </tr>\n",
       "    <tr>\n",
       "      <th>2</th>\n",
       "      <td>ABC Unified</td>\n",
       "      <td>2017</td>\n",
       "      <td>20497</td>\n",
       "    </tr>\n",
       "    <tr>\n",
       "      <th>3</th>\n",
       "      <td>ABC Unified</td>\n",
       "      <td>2018</td>\n",
       "      <td>20402</td>\n",
       "    </tr>\n",
       "    <tr>\n",
       "      <th>4</th>\n",
       "      <td>ABC Unified</td>\n",
       "      <td>2019</td>\n",
       "      <td>20229</td>\n",
       "    </tr>\n",
       "    <tr>\n",
       "      <th>...</th>\n",
       "      <td>...</td>\n",
       "      <td>...</td>\n",
       "      <td>...</td>\n",
       "    </tr>\n",
       "    <tr>\n",
       "      <th>4158</th>\n",
       "      <td>Yucaipa-Calimesa Joint Unified</td>\n",
       "      <td>2015</td>\n",
       "      <td>9880</td>\n",
       "    </tr>\n",
       "    <tr>\n",
       "      <th>4159</th>\n",
       "      <td>Yucaipa-Calimesa Joint Unified</td>\n",
       "      <td>2016</td>\n",
       "      <td>9960</td>\n",
       "    </tr>\n",
       "    <tr>\n",
       "      <th>4160</th>\n",
       "      <td>Yucaipa-Calimesa Joint Unified</td>\n",
       "      <td>2017</td>\n",
       "      <td>10056</td>\n",
       "    </tr>\n",
       "    <tr>\n",
       "      <th>4161</th>\n",
       "      <td>Yucaipa-Calimesa Joint Unified</td>\n",
       "      <td>2018</td>\n",
       "      <td>9975</td>\n",
       "    </tr>\n",
       "    <tr>\n",
       "      <th>4162</th>\n",
       "      <td>Yucaipa-Calimesa Joint Unified</td>\n",
       "      <td>2019</td>\n",
       "      <td>9824</td>\n",
       "    </tr>\n",
       "  </tbody>\n",
       "</table>\n",
       "<p>4163 rows × 3 columns</p>\n",
       "</div>"
      ],
      "text/plain": [
       "                            District  year  ENR_TOTAL\n",
       "0                        ABC Unified  2015      20811\n",
       "1                        ABC Unified  2016      20706\n",
       "2                        ABC Unified  2017      20497\n",
       "3                        ABC Unified  2018      20402\n",
       "4                        ABC Unified  2019      20229\n",
       "...                              ...   ...        ...\n",
       "4158  Yucaipa-Calimesa Joint Unified  2015       9880\n",
       "4159  Yucaipa-Calimesa Joint Unified  2016       9960\n",
       "4160  Yucaipa-Calimesa Joint Unified  2017      10056\n",
       "4161  Yucaipa-Calimesa Joint Unified  2018       9975\n",
       "4162  Yucaipa-Calimesa Joint Unified  2019       9824\n",
       "\n",
       "[4163 rows x 3 columns]"
      ]
     },
     "execution_count": 4,
     "metadata": {},
     "output_type": "execute_result"
    }
   ],
   "source": [
    "district_groups_df = data_df.groupby(by=[\"District\", \"year\"]).sum()\n",
    "enroll_by_dist_df = district_groups_df[\"ENR_TOTAL\"].to_frame().reset_index()\n",
    "enroll_by_dist_df"
   ]
  },
  {
   "cell_type": "code",
   "execution_count": 5,
   "metadata": {},
   "outputs": [
    {
     "data": {
      "text/html": [
       "<div>\n",
       "<style scoped>\n",
       "    .dataframe tbody tr th:only-of-type {\n",
       "        vertical-align: middle;\n",
       "    }\n",
       "\n",
       "    .dataframe tbody tr th {\n",
       "        vertical-align: top;\n",
       "    }\n",
       "\n",
       "    .dataframe thead th {\n",
       "        text-align: right;\n",
       "    }\n",
       "</style>\n",
       "<table border=\"1\" class=\"dataframe\">\n",
       "  <thead>\n",
       "    <tr style=\"text-align: right;\">\n",
       "      <th></th>\n",
       "      <th>year</th>\n",
       "      <th>ENR_TOTAL</th>\n",
       "    </tr>\n",
       "  </thead>\n",
       "  <tbody>\n",
       "    <tr>\n",
       "      <th>0</th>\n",
       "      <td>2015</td>\n",
       "      <td>5702282</td>\n",
       "    </tr>\n",
       "    <tr>\n",
       "      <th>1</th>\n",
       "      <td>2016</td>\n",
       "      <td>5702322</td>\n",
       "    </tr>\n",
       "    <tr>\n",
       "      <th>2</th>\n",
       "      <td>2017</td>\n",
       "      <td>5695798</td>\n",
       "    </tr>\n",
       "    <tr>\n",
       "      <th>3</th>\n",
       "      <td>2018</td>\n",
       "      <td>5665488</td>\n",
       "    </tr>\n",
       "    <tr>\n",
       "      <th>4</th>\n",
       "      <td>2019</td>\n",
       "      <td>5645516</td>\n",
       "    </tr>\n",
       "  </tbody>\n",
       "</table>\n",
       "</div>"
      ],
      "text/plain": [
       "   year  ENR_TOTAL\n",
       "0  2015    5702282\n",
       "1  2016    5702322\n",
       "2  2017    5695798\n",
       "3  2018    5665488\n",
       "4  2019    5645516"
      ]
     },
     "execution_count": 5,
     "metadata": {},
     "output_type": "execute_result"
    }
   ],
   "source": [
    "cal_enroll_groupby = data_df.groupby(by=\"year\").sum()\n",
    "cal_enrollment_df = cal_enroll_groupby[\"ENR_TOTAL\"].reset_index()\n",
    "cal_enrollment_df"
   ]
  },
  {
   "cell_type": "code",
   "execution_count": 12,
   "metadata": {},
   "outputs": [
    {
     "data": {
      "text/html": [
       "<div>\n",
       "<style scoped>\n",
       "    .dataframe tbody tr th:only-of-type {\n",
       "        vertical-align: middle;\n",
       "    }\n",
       "\n",
       "    .dataframe tbody tr th {\n",
       "        vertical-align: top;\n",
       "    }\n",
       "\n",
       "    .dataframe thead th {\n",
       "        text-align: right;\n",
       "    }\n",
       "</style>\n",
       "<table border=\"1\" class=\"dataframe\">\n",
       "  <thead>\n",
       "    <tr style=\"text-align: right;\">\n",
       "      <th></th>\n",
       "      <th>year</th>\n",
       "      <th>ENR_TOTAL</th>\n",
       "    </tr>\n",
       "  </thead>\n",
       "  <tbody>\n",
       "    <tr>\n",
       "      <th>0</th>\n",
       "      <td>2015</td>\n",
       "      <td>5702282</td>\n",
       "    </tr>\n",
       "    <tr>\n",
       "      <th>1</th>\n",
       "      <td>2016</td>\n",
       "      <td>5702322</td>\n",
       "    </tr>\n",
       "    <tr>\n",
       "      <th>2</th>\n",
       "      <td>2017</td>\n",
       "      <td>5695798</td>\n",
       "    </tr>\n",
       "    <tr>\n",
       "      <th>3</th>\n",
       "      <td>2018</td>\n",
       "      <td>5665488</td>\n",
       "    </tr>\n",
       "    <tr>\n",
       "      <th>4</th>\n",
       "      <td>2019</td>\n",
       "      <td>5645516</td>\n",
       "    </tr>\n",
       "  </tbody>\n",
       "</table>\n",
       "</div>"
      ],
      "text/plain": [
       "   year  ENR_TOTAL\n",
       "0  2015    5702282\n",
       "1  2016    5702322\n",
       "2  2017    5695798\n",
       "3  2018    5665488\n",
       "4  2019    5645516"
      ]
     },
     "execution_count": 12,
     "metadata": {},
     "output_type": "execute_result"
    }
   ],
   "source": [
    "cal_enroll_mean_groupby = data_df.groupby(by=\"year\").mean()\n",
    "cal_enroll_mean_df = cal_enroll_groupby[\"ENR_TOTAL\"].reset_index()\n",
    "cal_enroll_mean_df"
   ]
  },
  {
   "cell_type": "code",
   "execution_count": 6,
   "metadata": {},
   "outputs": [
    {
     "data": {
      "text/html": [
       "<div>\n",
       "<style scoped>\n",
       "    .dataframe tbody tr th:only-of-type {\n",
       "        vertical-align: middle;\n",
       "    }\n",
       "\n",
       "    .dataframe tbody tr th {\n",
       "        vertical-align: top;\n",
       "    }\n",
       "\n",
       "    .dataframe thead th {\n",
       "        text-align: right;\n",
       "    }\n",
       "</style>\n",
       "<table border=\"1\" class=\"dataframe\">\n",
       "  <thead>\n",
       "    <tr style=\"text-align: right;\">\n",
       "      <th></th>\n",
       "      <th>County</th>\n",
       "      <th>year</th>\n",
       "      <th>ENR_TOTAL</th>\n",
       "    </tr>\n",
       "  </thead>\n",
       "  <tbody>\n",
       "    <tr>\n",
       "      <th>0</th>\n",
       "      <td>Alameda</td>\n",
       "      <td>2015</td>\n",
       "      <td>586</td>\n",
       "    </tr>\n",
       "    <tr>\n",
       "      <th>1</th>\n",
       "      <td>Alameda</td>\n",
       "      <td>2016</td>\n",
       "      <td>588</td>\n",
       "    </tr>\n",
       "    <tr>\n",
       "      <th>2</th>\n",
       "      <td>Alameda</td>\n",
       "      <td>2017</td>\n",
       "      <td>594</td>\n",
       "    </tr>\n",
       "    <tr>\n",
       "      <th>3</th>\n",
       "      <td>Alameda</td>\n",
       "      <td>2018</td>\n",
       "      <td>590</td>\n",
       "    </tr>\n",
       "    <tr>\n",
       "      <th>4</th>\n",
       "      <td>Alameda</td>\n",
       "      <td>2019</td>\n",
       "      <td>594</td>\n",
       "    </tr>\n",
       "    <tr>\n",
       "      <th>...</th>\n",
       "      <td>...</td>\n",
       "      <td>...</td>\n",
       "      <td>...</td>\n",
       "    </tr>\n",
       "    <tr>\n",
       "      <th>240</th>\n",
       "      <td>Sonoma</td>\n",
       "      <td>2015</td>\n",
       "      <td>289</td>\n",
       "    </tr>\n",
       "    <tr>\n",
       "      <th>241</th>\n",
       "      <td>Sonoma</td>\n",
       "      <td>2016</td>\n",
       "      <td>285</td>\n",
       "    </tr>\n",
       "    <tr>\n",
       "      <th>242</th>\n",
       "      <td>Sonoma</td>\n",
       "      <td>2017</td>\n",
       "      <td>281</td>\n",
       "    </tr>\n",
       "    <tr>\n",
       "      <th>243</th>\n",
       "      <td>Sonoma</td>\n",
       "      <td>2018</td>\n",
       "      <td>276</td>\n",
       "    </tr>\n",
       "    <tr>\n",
       "      <th>244</th>\n",
       "      <td>Sonoma</td>\n",
       "      <td>2019</td>\n",
       "      <td>284</td>\n",
       "    </tr>\n",
       "  </tbody>\n",
       "</table>\n",
       "<p>245 rows × 3 columns</p>\n",
       "</div>"
      ],
      "text/plain": [
       "      County  year  ENR_TOTAL\n",
       "0    Alameda  2015        586\n",
       "1    Alameda  2016        588\n",
       "2    Alameda  2017        594\n",
       "3    Alameda  2018        590\n",
       "4    Alameda  2019        594\n",
       "..       ...   ...        ...\n",
       "240   Sonoma  2015        289\n",
       "241   Sonoma  2016        285\n",
       "242   Sonoma  2017        281\n",
       "243   Sonoma  2018        276\n",
       "244   Sonoma  2019        284\n",
       "\n",
       "[245 rows x 3 columns]"
      ]
     },
     "execution_count": 6,
     "metadata": {},
     "output_type": "execute_result"
    }
   ],
   "source": [
    "county_groupby = data_df.groupby(by=[\"County\", \"year\"]).mean().astype(\"int64\")\n",
    "county_enrollment_df = county_groupby[\"ENR_TOTAL\"].reset_index()\n",
    "county_enrollment_df"
   ]
  },
  {
   "cell_type": "code",
   "execution_count": 7,
   "metadata": {},
   "outputs": [
    {
     "data": {
      "image/png": "[encoded data removed]",
      "text/plain": [
       "<Figure size 432x288 with 1 Axes>"
      ]
     },
     "metadata": {
      "needs_background": "light"
     },
     "output_type": "display_data"
    }
   ],
   "source": [
    "x_axis = [\"2015-16\", \"2016-17\", \"2017-18\", \"2018-19\", \"2019-20\"]\n",
    "y_california = cal_enrollment_df[\"ENR_TOTAL\"]\n",
    "\n",
    "plt.plot(x_axis, y_california, marker=\"o\", color=\"blue\")\n",
    "plt.title(\"California School Enrollment by School Year\")\n",
    "plt.xlabel(\"School Year\")\n",
    "plt.ylabel(\"Number of Students Enrolled (millions)\")\n",
    "\n",
    "plt.show()"
   ]
  },
  {
   "cell_type": "code",
   "execution_count": 13,
   "metadata": {},
   "outputs": [
    {
     "data": {
      "image/png": "[encoded data removed]",
      "text/plain": [
       "<Figure size 432x288 with 1 Axes>"
      ]
     },
     "metadata": {
      "needs_background": "light"
     },
     "output_type": "display_data"
    }
   ],
   "source": [
    "x_axis = [\"2015-16\", \"2016-17\", \"2017-18\", \"2018-19\", \"2019-20\"]\n",
    "y_cal_mean = cal_enroll_mean_df[\"ENR_TOTAL\"]\n",
    "\n",
    "plt.plot(x_axis, y_cal_mean, marker=\"o\", color=\"green\")\n",
    "plt.title(\"California Average School Enrollment by School Year\")\n",
    "plt.xlabel(\"School Year\")\n",
    "plt.ylabel(\"Average Number of Students Enrolled (millions)\")\n",
    "\n",
    "plt.show()"
   ]
  },
  {
   "cell_type": "code",
   "execution_count": 8,
   "metadata": {},
   "outputs": [
    {
     "data": {
      "text/html": [
       "<div>\n",
       "<style scoped>\n",
       "    .dataframe tbody tr th:only-of-type {\n",
       "        vertical-align: middle;\n",
       "    }\n",
       "\n",
       "    .dataframe tbody tr th {\n",
       "        vertical-align: top;\n",
       "    }\n",
       "\n",
       "    .dataframe thead th {\n",
       "        text-align: right;\n",
       "    }\n",
       "</style>\n",
       "<table border=\"1\" class=\"dataframe\">\n",
       "  <thead>\n",
       "    <tr style=\"text-align: right;\">\n",
       "      <th></th>\n",
       "      <th>District</th>\n",
       "      <th>year</th>\n",
       "      <th>ENR_TOTAL</th>\n",
       "    </tr>\n",
       "  </thead>\n",
       "  <tbody>\n",
       "    <tr>\n",
       "      <th>2056</th>\n",
       "      <td>Los Angeles Unified</td>\n",
       "      <td>2015</td>\n",
       "      <td>634387</td>\n",
       "    </tr>\n",
       "    <tr>\n",
       "      <th>2057</th>\n",
       "      <td>Los Angeles Unified</td>\n",
       "      <td>2016</td>\n",
       "      <td>628644</td>\n",
       "    </tr>\n",
       "    <tr>\n",
       "      <th>2058</th>\n",
       "      <td>Los Angeles Unified</td>\n",
       "      <td>2017</td>\n",
       "      <td>617915</td>\n",
       "    </tr>\n",
       "    <tr>\n",
       "      <th>2059</th>\n",
       "      <td>Los Angeles Unified</td>\n",
       "      <td>2018</td>\n",
       "      <td>605310</td>\n",
       "    </tr>\n",
       "    <tr>\n",
       "      <th>2060</th>\n",
       "      <td>Los Angeles Unified</td>\n",
       "      <td>2019</td>\n",
       "      <td>594744</td>\n",
       "    </tr>\n",
       "  </tbody>\n",
       "</table>\n",
       "</div>"
      ],
      "text/plain": [
       "                 District  year  ENR_TOTAL\n",
       "2056  Los Angeles Unified  2015     634387\n",
       "2057  Los Angeles Unified  2016     628644\n",
       "2058  Los Angeles Unified  2017     617915\n",
       "2059  Los Angeles Unified  2018     605310\n",
       "2060  Los Angeles Unified  2019     594744"
      ]
     },
     "execution_count": 8,
     "metadata": {},
     "output_type": "execute_result"
    }
   ],
   "source": [
    "is_lausd = enroll_by_dist_df[\"District\"] == \"Los Angeles Unified\"\n",
    "\n",
    "lausd_df = enroll_by_dist_df.loc[is_lausd, :]\n",
    "lausd_df"
   ]
  },
  {
   "cell_type": "code",
   "execution_count": 9,
   "metadata": {},
   "outputs": [
    {
     "data": {
      "image/png": "[encoded data removed]",
      "text/plain": [
       "<Figure size 432x288 with 1 Axes>"
      ]
     },
     "metadata": {
      "needs_background": "light"
     },
     "output_type": "display_data"
    }
   ],
   "source": [
    "x_axis = [\"2015-16\", \"2016-17\", \"2017-18\", \"2018-19\", \"2019-20\"]\n",
    "y_axis = lausd_df[\"ENR_TOTAL\"]\n",
    "\n",
    "plt.plot(x_axis, y_axis, marker=\"+\", color=\"red\")\n",
    "plt.title(\"Enrollment by School Year\")\n",
    "plt.xlabel(\"School Year\")\n",
    "plt.ylabel(\"Number of Students Enrolled\")\n",
    "\n",
    "plt.show()"
   ]
  },
  {
   "cell_type": "code",
   "execution_count": 10,
   "metadata": {},
   "outputs": [],
   "source": [
    "district_list = enroll_by_dist_df[\"District\"].unique()"
   ]
  },
  {
   "cell_type": "code",
   "execution_count": 16,
   "metadata": {},
   "outputs": [],
   "source": [
    "x_axis = [\"2015-16\", \"2016-17\", \"2017-18\", \"2018-19\", \"2019-20\"]\n",
    "\n",
    "\n",
    "def enrollment_plot(District):\n",
    "#     for District in district_list:\n",
    "    loop_dist_df = enroll_by_dist_df.loc[enroll_by_dist_df[\"District\"] == District, :]\n",
    "    y_axis = loop_dist_df[\"ENR_TOTAL\"]\n",
    "    print(f\"{District}\")\n",
    "        \n",
    "    try:\n",
    "        plt.plot(x_axis, y_axis, marker=\"+\", color=\"red\")\n",
    "        plt.title(\"Enrollment by School Year\")\n",
    "        plt.xlabel(\"School Year\")\n",
    "        plt.ylabel(\"Number of Students Enrolled\")\n",
    "            \n",
    "        plt.show()\n",
    "            \n",
    "    except:\n",
    "        print(f\"Can't show this plot\")"
   ]
  },
  {
   "cell_type": "code",
   "execution_count": 26,
   "metadata": {},
   "outputs": [
    {
     "name": "stdin",
     "output_type": "stream",
     "text": [
      "Type in your district:  San Diego Unified\n"
     ]
    },
    {
     "name": "stdout",
     "output_type": "stream",
     "text": [
      "San Diego Unified\n"
     ]
    },
    {
     "data": {
      "image/png": "[encoded data removed]",
      "text/plain": [
       "<Figure size 432x288 with 1 Axes>"
      ]
     },
     "metadata": {
      "needs_background": "light"
     },
     "output_type": "display_data"
    }
   ],
   "source": [
    "district_input = input(f\"Type in your district: \")\n",
    "enrollment_plot(district_input)"
   ]
  },
  {
   "cell_type": "code",
   "execution_count": 24,
   "metadata": {},
   "outputs": [
    {
     "data": {
      "text/html": [
       "<div>\n",
       "<style scoped>\n",
       "    .dataframe tbody tr th:only-of-type {\n",
       "        vertical-align: middle;\n",
       "    }\n",
       "\n",
       "    .dataframe tbody tr th {\n",
       "        vertical-align: top;\n",
       "    }\n",
       "\n",
       "    .dataframe thead th {\n",
       "        text-align: right;\n",
       "    }\n",
       "</style>\n",
       "<table border=\"1\" class=\"dataframe\">\n",
       "  <thead>\n",
       "    <tr style=\"text-align: right;\">\n",
       "      <th></th>\n",
       "      <th>District</th>\n",
       "      <th>year</th>\n",
       "      <th>ENR_TOTAL</th>\n",
       "    </tr>\n",
       "  </thead>\n",
       "  <tbody>\n",
       "    <tr>\n",
       "      <th>3319</th>\n",
       "      <td>San Diego Unified</td>\n",
       "      <td>2015</td>\n",
       "      <td>128608</td>\n",
       "    </tr>\n",
       "    <tr>\n",
       "      <th>3320</th>\n",
       "      <td>San Diego Unified</td>\n",
       "      <td>2016</td>\n",
       "      <td>127257</td>\n",
       "    </tr>\n",
       "    <tr>\n",
       "      <th>3321</th>\n",
       "      <td>San Diego Unified</td>\n",
       "      <td>2017</td>\n",
       "      <td>125721</td>\n",
       "    </tr>\n",
       "    <tr>\n",
       "      <th>3322</th>\n",
       "      <td>San Diego Unified</td>\n",
       "      <td>2018</td>\n",
       "      <td>123444</td>\n",
       "    </tr>\n",
       "    <tr>\n",
       "      <th>3323</th>\n",
       "      <td>San Diego Unified</td>\n",
       "      <td>2019</td>\n",
       "      <td>122274</td>\n",
       "    </tr>\n",
       "  </tbody>\n",
       "</table>\n",
       "</div>"
      ],
      "text/plain": [
       "               District  year  ENR_TOTAL\n",
       "3319  San Diego Unified  2015     128608\n",
       "3320  San Diego Unified  2016     127257\n",
       "3321  San Diego Unified  2017     125721\n",
       "3322  San Diego Unified  2018     123444\n",
       "3323  San Diego Unified  2019     122274"
      ]
     },
     "execution_count": 24,
     "metadata": {},
     "output_type": "execute_result"
    }
   ],
   "source": [
    "loop_dist_df = enroll_by_dist_df.loc[enroll_by_dist_df[\"District\"] == \"San Diego Unified\", :]\n",
    "loop_dist_df"
   ]
  },
  {
   "cell_type": "code",
   "execution_count": 55,
   "metadata": {},
   "outputs": [
    {
     "data": {
      "image/png": "[encoded data removed]",
      "text/plain": [
       "<Figure size 432x288 with 1 Axes>"
      ]
     },
     "metadata": {
      "needs_background": "light"
     },
     "output_type": "display_data"
    },
    {
     "data": {
      "text/html": [
       "<style  type=\"text/css\" >\n",
       "</style><table id=\"T_b6df7_\" ><thead>    <tr>        <th class=\"blank level0\" ></th>        <th class=\"col_heading level0 col0\" >Percent Change</th>    </tr></thead><tbody>\n",
       "                <tr>\n",
       "                        <th id=\"T_b6df7_level0_row0\" class=\"row_heading level0 row0\" >3319</th>\n",
       "                        <td id=\"T_b6df7_row0_col0\" class=\"data row0 col0\" >nan%</td>\n",
       "            </tr>\n",
       "            <tr>\n",
       "                        <th id=\"T_b6df7_level0_row1\" class=\"row_heading level0 row1\" >3320</th>\n",
       "                        <td id=\"T_b6df7_row1_col0\" class=\"data row1 col0\" >-1.05%</td>\n",
       "            </tr>\n",
       "            <tr>\n",
       "                        <th id=\"T_b6df7_level0_row2\" class=\"row_heading level0 row2\" >3321</th>\n",
       "                        <td id=\"T_b6df7_row2_col0\" class=\"data row2 col0\" >-1.21%</td>\n",
       "            </tr>\n",
       "            <tr>\n",
       "                        <th id=\"T_b6df7_level0_row3\" class=\"row_heading level0 row3\" >3322</th>\n",
       "                        <td id=\"T_b6df7_row3_col0\" class=\"data row3 col0\" >-1.81%</td>\n",
       "            </tr>\n",
       "            <tr>\n",
       "                        <th id=\"T_b6df7_level0_row4\" class=\"row_heading level0 row4\" >3323</th>\n",
       "                        <td id=\"T_b6df7_row4_col0\" class=\"data row4 col0\" >-0.95%</td>\n",
       "            </tr>\n",
       "    </tbody></table>"
      ],
      "text/plain": [
       "<pandas.io.formats.style.Styler at 0x7f8ef0e0be80>"
      ]
     },
     "execution_count": 55,
     "metadata": {},
     "output_type": "execute_result"
    }
   ],
   "source": [
    "fig,ax = plt.subplots()\n",
    "for code, df in loop_dist_df.groupby(\"District\"):\n",
    "    Y_df = df.assign(Perc_diff=loop_dist_df[\"ENR_TOTAL\"].diff()/loop_dist_df[\"ENR_TOTAL\"].shift())\n",
    "    Y_df.plot(x=\"year\", y=\"Perc_diff\", label=code, ax=ax)\n",
    "plt.show()\n",
    "Y_df[\"Percent Change\"] = Y_df[\"Perc_diff\"]\n",
    "Y_df[\"Percent Change\"].to_frame().style.format({\"Percent Change\":'{:.2%}'})\n",
    "\n",
    "# Y_df"
   ]
  },
  {
   "cell_type": "code",
   "execution_count": 36,
   "metadata": {},
   "outputs": [
    {
     "data": {
      "text/plain": [
       "District           object\n",
       "year                int64\n",
       "ENR_TOTAL           int64\n",
       "Perc_diff         float64\n",
       "Percent Change    float64\n",
       "dtype: object"
      ]
     },
     "execution_count": 36,
     "metadata": {},
     "output_type": "execute_result"
    }
   ],
   "source": [
    "Y_df.dtypes"
   ]
  },
  {
   "cell_type": "code",
   "execution_count": null,
   "metadata": {},
   "outputs": [],
   "source": []
  }
 ],
 "metadata": {
  "kernelspec": {
   "display_name": "Python 3",
   "language": "python",
   "name": "python3"
  },
  "language_info": {
   "codemirror_mode": {
    "name": "ipython",
    "version": 3
   },
   "file_extension": ".py",
   "mimetype": "text/x-python",
   "name": "python",
   "nbconvert_exporter": "python",
   "pygments_lexer": "ipython3",
   "version": "3.8.5"
  }
 },
 "nbformat": 4,
 "nbformat_minor": 4
}
