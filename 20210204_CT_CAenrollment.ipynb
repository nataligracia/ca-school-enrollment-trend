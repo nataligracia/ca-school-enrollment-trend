{
 "cells": [
  {
   "cell_type": "code",
   "execution_count": 41,
   "metadata": {},
   "outputs": [
    {
     "data": {
      "text/plain": [
       "'C:\\\\Users\\\\collc\\\\OneDrive\\\\Desktop\\\\Data Analytics\\\\Assignments\\\\Project Prep Ground'"
      ]
     },
     "execution_count": 41,
     "metadata": {},
     "output_type": "execute_result"
    }
   ],
   "source": [
    "pwd"
   ]
  },
  {
   "cell_type": "code",
   "execution_count": 44,
   "metadata": {},
   "outputs": [],
   "source": [
    "# Dependencies and Setup\n",
    "import pandas as pd\n",
    "import pathlib\n",
    "import csv\n",
    "import scipy.stats as st\n",
    "import numpy as np\n",
    "\n",
    "\n",
    "# set paths for enrollment data files\n",
    "enrol_2014_2015_path = \"Resources/2014-15-enrollment.csv\"\n",
    "enrol_2015_2016_path = \"Resources/2015-16-enrollment.csv\"\n",
    "enrol_2016_2017_path = \"Resources/2016-17-enrollment.csv\"\n",
    "enrol_2017_2018_path = \"Resources/2017-18-enrollment.csv\"\n",
    "enrol_2018_2019_path = \"Resources/2018-19-enrollment.csv\"\n",
    "enrol_2019_2020_path = \"Resources/2019-20-enrollment.csv\""
   ]
  },
  {
   "cell_type": "code",
   "execution_count": 64,
   "metadata": {},
   "outputs": [],
   "source": [
    "# Read the enrollment data and the study results\n",
    "enrol_2014_2015 = pd.read_csv(enrol_2014_2015_path)\n",
    "# pd.DataFrame(enrol_2014_2015)"
   ]
  },
  {
   "cell_type": "code",
   "execution_count": 65,
   "metadata": {},
   "outputs": [],
   "source": [
    "enrol_2015_2016 = pd.read_csv(enrol_2015_2016_path)\n",
    "# pd.DataFrame(enrol_2015_2016)"
   ]
  },
  {
   "cell_type": "code",
   "execution_count": 45,
   "metadata": {},
   "outputs": [],
   "source": [
    "enrol_2016_2017 = pd.read_csv(enrol_2016_2017_path)\n",
    "# pd.DataFrame(enrol_2016_2017)"
   ]
  },
  {
   "cell_type": "code",
   "execution_count": 45,
   "metadata": {},
   "outputs": [],
   "source": [
    "enrol_2017_2018 = pd.read_csv(enrol_2017_2018_path)\n",
    "# pd.DataFrame(enrol_2017_2018)"
   ]
  },
  {
   "cell_type": "code",
   "execution_count": 45,
   "metadata": {},
   "outputs": [],
   "source": [
    "enrol_2018_2019 = pd.read_csv(enrol_2018_2019_path)\n",
    "# pd.DataFrame(enrol_2018_2019)"
   ]
  },
  {
   "cell_type": "code",
   "execution_count": 45,
   "metadata": {},
   "outputs": [],
   "source": [
    "enrol_2019_2020 = pd.read_csv(enrol_2019_2020_path)\n",
    "# pd.DataFrame(enrol_2019_2020)"
   ]
  },
  {
   "cell_type": "code",
   "execution_count": 60,
   "metadata": {},
   "outputs": [],
   "source": [
    "#enrol_2019_2020 = pd.read_csv(enrol_2019_2020_path)\n"
   ]
  },
  {
   "cell_type": "code",
   "execution_count": 74,
   "metadata": {},
   "outputs": [],
   "source": [
    "list_of_files = [\"Resources/2014-15-enrollment.csv\",\"Resources/2015-16-enrollment.csv\",\"Resources/2016-17-enrollment.csv\",\"Resources/2017-18-enrollment.csv\",\"Resources/2018-19-enrollment.csv\",\"Resources/2019-20-enrollment.csv\"]\n",
    "\n",
    "enroll_dfs = []\n",
    "for i,filename in enumerate(list_of_files):\n",
    "    X1 = pd.read_csv(filename)\n",
    "    X1[\"year\"] = 2014 +i\n",
    "    enroll_dfs.append(X1)\n",
    "    \n",
    "# Combine the data into a single dataset    # Another format # pd.read_csv(filename).assign(year=2014+i)\n",
    "#combined_data = pd.merge(enrol_2014_2015, enrol_2015_2016,enrol_2016_2017, enrol_2017_2018, enrol_2018_2019, enrol_2019_2020, on=\"CDS_CODE\", how=\"left\")\n",
    "combined_data = pd.concat(enroll_dfs)\n",
    "enrollment_df = pd.DataFrame(combined_data)"
   ]
  },
  {
   "cell_type": "code",
   "execution_count": 76,
   "metadata": {},
   "outputs": [],
   "source": [
    "enrollment_df.to_csv(\"Resources/output_data/merged_data.csv\")"
   ]
  },
  {
   "cell_type": "code",
   "execution_count": null,
   "metadata": {},
   "outputs": [],
   "source": []
  }
 ],
 "metadata": {
  "kernelspec": {
   "display_name": "Python 3",
   "language": "python",
   "name": "python3"
  },
  "language_info": {
   "codemirror_mode": {
    "name": "ipython",
    "version": 3
   },
   "file_extension": ".py",
   "mimetype": "text/x-python",
   "name": "python",
   "nbconvert_exporter": "python",
   "pygments_lexer": "ipython3",
   "version": "3.8.5"
  }
 },
 "nbformat": 4,
 "nbformat_minor": 4
}
